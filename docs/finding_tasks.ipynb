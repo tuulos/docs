{
 "cells": [
  {
   "cell_type": "raw",
   "id": "bb3bdb70-e096-4d89-a6c7-09299cf06e60",
   "metadata": {},
   "source": [
    "---\n",
    "slug: /finding-tasks-based-on-artifact-values\n",
    "title: Finding tasks based on artifact values\n",
    "---"
   ]
  },
  {
   "cell_type": "markdown",
   "id": "d21de791-cd16-47dd-84ac-be1851597d70",
   "metadata": {},
   "source": [
    "## Question\n",
    "\n",
    "How to find and inspect a Metaflow task with a certain artifact value? This question comes up often in the context of [foreaches](https://docs.metaflow.org/metaflow/basics#foreach) that yield many tasks from a single step. For instance, you might train a separate model for each country and afterwards you want to inspect data related to a specific country.\n",
    "\n",
    "## Answer\n",
    "\n",
    "You can use the [Metaflow Client API](https://docs.metaflow.org/metaflow/client) with Python's [list comprehensions](https://realpython.com/list-comprehension-python/) to find tasks that have desired data. A benefit of this approach is that you can use familiar Python constructs, such as `and` and `or`, to express arbitrarily complex queries over data.\n",
    "\n",
    "## Example\n",
    "\n",
    "Here's a flow with a foreach branch that yields three tasks for _South Korea_, _Sweden_, and _Cuba_:"
   ]
  },
  {
   "cell_type": "code",
   "execution_count": 1,
   "id": "7c889c47-1838-41a9-a4fc-365a509883b5",
   "metadata": {},
   "outputs": [
    {
     "name": "stdout",
     "output_type": "stream",
     "text": [
      "Overwriting finding_tasks_country_flow.py\n"
     ]
    }
   ],
   "source": [
    "%%writefile finding_tasks_country_flow.py\n",
    "from metaflow import FlowSpec, step\n",
    "\n",
    "class CountryFlow(FlowSpec):\n",
    "\n",
    "    @step\n",
    "    def start(self):\n",
    "        self.countries = ['South Korea', 'Sweden', 'Cuba']\n",
    "        self.next(self.process_country, foreach='countries')\n",
    "        \n",
    "    @step\n",
    "    def process_country(self):\n",
    "        self.country = self.input\n",
    "        self.length = len(self.input)\n",
    "        self.next(self.join)\n",
    "        \n",
    "    @step\n",
    "    def join(self, inputs):\n",
    "        self.next(self.end)\n",
    "\n",
    "    @step\n",
    "    def end(self):\n",
    "        pass\n",
    "\n",
    "if __name__ == '__main__':\n",
    "    CountryFlow()"
   ]
  },
  {
   "cell_type": "markdown",
   "id": "ada16dcd-b829-4a05-ab28-ab750e741aea",
   "metadata": {},
   "source": [
    "Run the flow:"
   ]
  },
  {
   "cell_type": "code",
   "execution_count": 2,
   "id": "e53a928c-2efd-4e42-9ad3-f3192ca33d33",
   "metadata": {},
   "outputs": [
    {
     "name": "stdout",
     "output_type": "stream",
     "text": [
      "\u001b[35m\u001b[1mMetaflow 2.5.2\u001b[0m\u001b[35m\u001b[22m executing \u001b[0m\u001b[31m\u001b[1mCountryFlow\u001b[0m\u001b[35m\u001b[22m\u001b[0m\u001b[35m\u001b[22m for \u001b[0m\u001b[31m\u001b[1muser:ville\u001b[0m\u001b[35m\u001b[22m\u001b[K\u001b[0m\u001b[35m\u001b[22m\u001b[0m\n",
      "\u001b[35m\u001b[22mValidating your flow...\u001b[K\u001b[0m\u001b[35m\u001b[22m\u001b[0m\n",
      "\u001b[32m\u001b[1m    The graph looks good!\u001b[K\u001b[0m\u001b[32m\u001b[1m\u001b[0m\n",
      "\u001b[35m\u001b[22mRunning pylint...\u001b[K\u001b[0m\u001b[35m\u001b[22m\u001b[0m\n",
      "\u001b[32m\u001b[1m    Pylint is happy!\u001b[K\u001b[0m\u001b[32m\u001b[1m\u001b[0m\n",
      "\u001b[35m2022-02-22 14:15:48.227 \u001b[0m\u001b[1mWorkflow starting (run-id 1645568148219212):\u001b[0m\n",
      "\u001b[35m2022-02-22 14:15:48.233 \u001b[0m\u001b[32m[1645568148219212/start/1 (pid 33726)] \u001b[0m\u001b[1mTask is starting.\u001b[0m\n",
      "\u001b[35m2022-02-22 14:15:48.772 \u001b[0m\u001b[32m[1645568148219212/start/1 (pid 33726)] \u001b[0m\u001b[1mForeach yields 3 child steps.\u001b[0m\n",
      "\u001b[35m2022-02-22 14:15:48.772 \u001b[0m\u001b[32m[1645568148219212/start/1 (pid 33726)] \u001b[0m\u001b[1mTask finished successfully.\u001b[0m\n",
      "\u001b[35m2022-02-22 14:15:48.781 \u001b[0m\u001b[32m[1645568148219212/process_country/2 (pid 33729)] \u001b[0m\u001b[1mTask is starting.\u001b[0m\n",
      "\u001b[35m2022-02-22 14:15:48.788 \u001b[0m\u001b[32m[1645568148219212/process_country/3 (pid 33730)] \u001b[0m\u001b[1mTask is starting.\u001b[0m\n",
      "\u001b[35m2022-02-22 14:15:48.794 \u001b[0m\u001b[32m[1645568148219212/process_country/4 (pid 33731)] \u001b[0m\u001b[1mTask is starting.\u001b[0m\n",
      "\u001b[35m2022-02-22 14:15:49.341 \u001b[0m\u001b[32m[1645568148219212/process_country/3 (pid 33730)] \u001b[0m\u001b[1mTask finished successfully.\u001b[0m\n",
      "\u001b[35m2022-02-22 14:15:49.343 \u001b[0m\u001b[32m[1645568148219212/process_country/2 (pid 33729)] \u001b[0m\u001b[1mTask finished successfully.\u001b[0m\n",
      "\u001b[35m2022-02-22 14:15:49.353 \u001b[0m\u001b[32m[1645568148219212/process_country/4 (pid 33731)] \u001b[0m\u001b[1mTask finished successfully.\u001b[0m\n",
      "\u001b[35m2022-02-22 14:15:49.360 \u001b[0m\u001b[32m[1645568148219212/join/5 (pid 33738)] \u001b[0m\u001b[1mTask is starting.\u001b[0m\n",
      "\u001b[35m2022-02-22 14:15:49.925 \u001b[0m\u001b[32m[1645568148219212/join/5 (pid 33738)] \u001b[0m\u001b[1mTask finished successfully.\u001b[0m\n",
      "\u001b[35m2022-02-22 14:15:49.933 \u001b[0m\u001b[32m[1645568148219212/end/6 (pid 33741)] \u001b[0m\u001b[1mTask is starting.\u001b[0m\n",
      "\u001b[35m2022-02-22 14:15:50.455 \u001b[0m\u001b[32m[1645568148219212/end/6 (pid 33741)] \u001b[0m\u001b[1mTask finished successfully.\u001b[0m\n",
      "\u001b[35m2022-02-22 14:15:50.457 \u001b[0m\u001b[1mDone!\u001b[0m\n"
     ]
    }
   ],
   "source": [
    "!python finding_tasks_country_flow.py run"
   ]
  },
  {
   "cell_type": "markdown",
   "id": "2e865c7b-812b-4d72-be1e-482c236b9eeb",
   "metadata": {},
   "source": [
    "Next, let's use the Client API to inspect the run we just executed. You can execute the following commands e.g. in a notebook."
   ]
  },
  {
   "cell_type": "code",
   "execution_count": 3,
   "id": "28dccac7-2501-4db6-896a-abee731f7711",
   "metadata": {},
   "outputs": [
    {
     "data": {
      "text/plain": [
       "Run('CountryFlow/1645568148219212')"
      ]
     },
     "execution_count": 3,
     "metadata": {},
     "output_type": "execute_result"
    }
   ],
   "source": [
    "from metaflow import Flow\n",
    "run = Flow('CountryFlow').latest_run\n",
    "run"
   ]
  },
  {
   "cell_type": "markdown",
   "id": "7d3b1cbd-3966-47cc-b4b0-bdf92ed4518a",
   "metadata": {},
   "source": [
    "You can see that the run ID matches with the output of our run above. Now that we have a `Run` object that corresponds to the run we want to inspect, we can use a list comprehension to find tasks with desired data.\n",
    "\n",
    "Here's how to find a task corresponding to _Cuba_:"
   ]
  },
  {
   "cell_type": "code",
   "execution_count": 4,
   "id": "6e78ed40-bd4e-4099-875a-e4e94ca6e3cb",
   "metadata": {},
   "outputs": [
    {
     "data": {
      "text/plain": [
       "Task('CountryFlow/1645568148219212/process_country/4')"
      ]
     },
     "execution_count": 4,
     "metadata": {},
     "output_type": "execute_result"
    }
   ],
   "source": [
    "[cuba] = [task for task in run['process_country']\n",
    "          if task['country'].data == 'Cuba']\n",
    "cuba"
   ]
  },
  {
   "cell_type": "markdown",
   "id": "488b833e-3c8f-444f-9676-4c3114d8b9f0",
   "metadata": {},
   "source": [
    "Now that we have found a `Task` object corresponding to _cuba_, we can query any data produced by the task:"
   ]
  },
  {
   "cell_type": "code",
   "execution_count": 5,
   "id": "501e8e2e-2d6b-4921-8e00-c0f42c7fcf91",
   "metadata": {},
   "outputs": [
    {
     "data": {
      "text/plain": [
       "4"
      ]
     },
     "execution_count": 5,
     "metadata": {},
     "output_type": "execute_result"
    }
   ],
   "source": [
    "cuba.data.length"
   ]
  },
  {
   "cell_type": "markdown",
   "id": "b9264a1f-a2af-4d37-8071-9d591e9cf8a4",
   "metadata": {},
   "source": [
    "You can use any Python expressions inside list comprehensions to express complex queries. This example finds all tasks where the country name includes the letter _e_ and the name length is longer than 3:"
   ]
  },
  {
   "cell_type": "code",
   "execution_count": 6,
   "id": "6d3dc9a0-eb0f-4e57-9b8e-6880cbdf5f3c",
   "metadata": {},
   "outputs": [
    {
     "data": {
      "text/plain": [
       "['Sweden', 'South Korea']"
      ]
     },
     "execution_count": 6,
     "metadata": {},
     "output_type": "execute_result"
    }
   ],
   "source": [
    "[task['country'].data for task in run['process_country']\n",
    " if 'e' in task['country'].data and\n",
    "     task['length'].data > 3]"
   ]
  },
  {
   "cell_type": "markdown",
   "id": "9f518272-73d2-44d0-8270-87294a805c18",
   "metadata": {},
   "source": [
    "## See Also|\n",
    " - [Finding Tasks Based on Tags](finding-tasks-based-on-artifact-values)"
   ]
  },
  {
   "cell_type": "code",
   "execution_count": null,
   "id": "5252cd23-1548-4f26-a341-7126e2fa89ed",
   "metadata": {},
   "outputs": [],
   "source": []
  }
 ],
 "metadata": {
  "kernelspec": {
   "display_name": "Python 3 (ipykernel)",
   "language": "python",
   "name": "python3"
  },
  "language_info": {
   "codemirror_mode": {
    "name": "ipython",
    "version": 3
   },
   "file_extension": ".py",
   "mimetype": "text/x-python",
   "name": "python",
   "nbconvert_exporter": "python",
   "pygments_lexer": "ipython3",
   "version": "3.10.2"
  }
 },
 "nbformat": 4,
 "nbformat_minor": 5
}
